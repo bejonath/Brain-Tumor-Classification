{
 "cells": [
  {
   "cell_type": "code",
   "execution_count": null,
   "metadata": {
    "execution": {
     "iopub.execute_input": "2025-03-11T17:50:02.502006Z",
     "iopub.status.busy": "2025-03-11T17:50:02.501774Z",
     "iopub.status.idle": "2025-03-11T17:50:15.576492Z",
     "shell.execute_reply": "2025-03-11T17:50:15.575781Z",
     "shell.execute_reply.started": "2025-03-11T17:50:02.501985Z"
    },
    "trusted": true
   },
   "outputs": [],
   "source": [
    "import tensorflow as tf\n",
    "from tensorflow.keras.preprocessing.image import ImageDataGenerator\n",
    "from tensorflow.keras.layers import Dense, Flatten, Dropout, Input, Conv2D, BatchNormalization, MaxPooling2D, Activation, Add, GlobalAveragePooling2D, Dense\n",
    "from tensorflow.keras.models import Model\n",
    "from tensorflow.keras.optimizers import Adam\n",
    "from tensorflow.keras.callbacks import ModelCheckpoint\n",
    "from tensorflow.keras import callbacks\n",
    "from tensorflow.keras.callbacks import EarlyStopping, ModelCheckpoint, ReduceLROnPlateau\n",
    "import os\n",
    "import matplotlib.pyplot as plt\n",
    "import seaborn as sns\n",
    "import pandas as pd\n",
    "import numpy as np\n",
    "from sklearn.metrics import classification_report, confusion_matrix\n"
   ]
  },
  {
   "cell_type": "code",
   "execution_count": null,
   "metadata": {
    "execution": {
     "iopub.execute_input": "2025-03-11T17:50:57.510773Z",
     "iopub.status.busy": "2025-03-11T17:50:57.510495Z",
     "iopub.status.idle": "2025-03-11T17:50:57.514244Z",
     "shell.execute_reply": "2025-03-11T17:50:57.513481Z",
     "shell.execute_reply.started": "2025-03-11T17:50:57.510750Z"
    },
    "trusted": true
   },
   "outputs": [],
   "source": [
    "train_dir = \"Training\"\n",
    "test_dir =  \"Testing\""
   ]
  },
  {
   "cell_type": "code",
   "execution_count": null,
   "metadata": {
    "execution": {
     "iopub.execute_input": "2025-03-11T17:50:58.450487Z",
     "iopub.status.busy": "2025-03-11T17:50:58.450173Z",
     "iopub.status.idle": "2025-03-11T17:50:58.454451Z",
     "shell.execute_reply": "2025-03-11T17:50:58.453521Z",
     "shell.execute_reply.started": "2025-03-11T17:50:58.450462Z"
    },
    "trusted": true
   },
   "outputs": [],
   "source": [
    "def list_folders(path):\n",
    "    folders = [f for f in os.listdir(path) if os.path.isdir(os.path.join(path, f))]\n",
    "    return sorted(folders)\n"
   ]
  },
  {
   "cell_type": "code",
   "execution_count": null,
   "metadata": {
    "execution": {
     "iopub.execute_input": "2025-03-11T17:50:59.065987Z",
     "iopub.status.busy": "2025-03-11T17:50:59.065707Z",
     "iopub.status.idle": "2025-03-11T17:50:59.227507Z",
     "shell.execute_reply": "2025-03-11T17:50:59.226769Z",
     "shell.execute_reply.started": "2025-03-11T17:50:59.065964Z"
    },
    "trusted": true
   },
   "outputs": [],
   "source": [
    "train_classes = list_folders(train_dir)\n",
    "test_classes = list_folders(test_dir)\n",
    "\n",
    "print(\"Training \")\n",
    "print(f\"Found {len(train_classes)} classes in training data:\")\n",
    "print('\\n'.join(train_classes))\n",
    "\n",
    "print(\"\\nTesting\")\n",
    "print(f\"Found {len(test_classes)} classes in testing data:\")\n",
    "print('\\n'.join(test_classes))"
   ]
  },
  {
   "cell_type": "code",
   "execution_count": null,
   "metadata": {
    "execution": {
     "iopub.execute_input": "2025-03-11T17:50:59.733096Z",
     "iopub.status.busy": "2025-03-11T17:50:59.732797Z",
     "iopub.status.idle": "2025-03-11T17:50:59.736688Z",
     "shell.execute_reply": "2025-03-11T17:50:59.735816Z",
     "shell.execute_reply.started": "2025-03-11T17:50:59.733073Z"
    },
    "trusted": true
   },
   "outputs": [],
   "source": [
    "IMG_SIZE = (224, 224)\n",
    "BATCH_SIZE = 32\n",
    "EPOCHS = 50\n"
   ]
  },
  {
   "cell_type": "code",
   "execution_count": null,
   "metadata": {
    "execution": {
     "iopub.execute_input": "2025-03-11T17:51:00.608409Z",
     "iopub.status.busy": "2025-03-11T17:51:00.608128Z",
     "iopub.status.idle": "2025-03-11T17:51:00.612393Z",
     "shell.execute_reply": "2025-03-11T17:51:00.611514Z",
     "shell.execute_reply.started": "2025-03-11T17:51:00.608386Z"
    },
    "trusted": true
   },
   "outputs": [],
   "source": [
    "train_datagen = ImageDataGenerator(\n",
    "    rescale=1./255,    \n",
    "    horizontal_flip=True,\n",
    "    vertical_flip=True\n",
    ")\n",
    "test_datagen = ImageDataGenerator(\n",
    "    rescale=1./255,       \n",
    ")"
   ]
  },
  {
   "cell_type": "code",
   "execution_count": null,
   "metadata": {
    "execution": {
     "iopub.execute_input": "2025-03-11T17:51:01.310496Z",
     "iopub.status.busy": "2025-03-11T17:51:01.310209Z",
     "iopub.status.idle": "2025-03-11T17:51:28.485337Z",
     "shell.execute_reply": "2025-03-11T17:51:28.484547Z",
     "shell.execute_reply.started": "2025-03-11T17:51:01.310472Z"
    },
    "trusted": true
   },
   "outputs": [],
   "source": [
    "train_generator = train_datagen.flow_from_directory(\n",
    "    train_dir,\n",
    "    target_size=IMG_SIZE,\n",
    "    batch_size=BATCH_SIZE,\n",
    "    class_mode='categorical'\n",
    ")\n",
    "test_generator = test_datagen.flow_from_directory(\n",
    "    test_dir,\n",
    "    target_size=IMG_SIZE,\n",
    "    batch_size=BATCH_SIZE,\n",
    "    class_mode='categorical',\n",
    "    shuffle = False\n",
    ")"
   ]
  },
  {
   "cell_type": "code",
   "execution_count": null,
   "metadata": {
    "execution": {
     "iopub.execute_input": "2025-03-11T17:51:28.487025Z",
     "iopub.status.busy": "2025-03-11T17:51:28.486658Z",
     "iopub.status.idle": "2025-03-11T17:51:29.438729Z",
     "shell.execute_reply": "2025-03-11T17:51:29.437833Z",
     "shell.execute_reply.started": "2025-03-11T17:51:28.486985Z"
    },
    "trusted": true
   },
   "outputs": [],
   "source": [
    "images, labels = next(train_generator)\n",
    "\n",
    "print(\"Batch shape:\", images.shape)  \n",
    "\n",
    "plt.figure(figsize=(12, 6))\n",
    "num_images = 6 \n",
    "for i in range(num_images):\n",
    "    plt.subplot(2, 3, i+1)\n",
    "    rand_idx = np.random.randint(0, len(images))\n",
    "    plt.imshow(images[rand_idx])  \n",
    "    plt.axis(\"off\")\n",
    "    plt.title(f\"Class: {np.argmax(labels[rand_idx])}\")\n",
    "plt.tight_layout()\n",
    "plt.show()"
   ]
  },
  {
   "cell_type": "markdown",
   "metadata": {},
   "source": [
    "**CNN model**"
   ]
  },
  {
   "cell_type": "code",
   "execution_count": null,
   "metadata": {
    "execution": {
     "iopub.execute_input": "2025-03-11T17:51:29.440462Z",
     "iopub.status.busy": "2025-03-11T17:51:29.440232Z",
     "iopub.status.idle": "2025-03-11T17:51:32.467811Z",
     "shell.execute_reply": "2025-03-11T17:51:32.467007Z",
     "shell.execute_reply.started": "2025-03-11T17:51:29.440441Z"
    },
    "scrolled": true,
    "trusted": true
   },
   "outputs": [],
   "source": [
    "def residual_block(x, filters, stride=1, is_conv_block=False):\n",
    " \n",
    "    f1, f2, f3 = filters\n",
    "    x_skip = x\n",
    "\n",
    "    x = Conv2D(f1, kernel_size=1, strides=stride)(x)\n",
    "    x = BatchNormalization()(x)\n",
    "    x = Activation('relu')(x)\n",
    "\n",
    "    x = Conv2D(f2, kernel_size=3, strides=1, padding='same')(x)\n",
    "    x = BatchNormalization()(x)\n",
    "    x = Activation('relu')(x) \n",
    "\n",
    "    x = Conv2D(f3, kernel_size=1, strides=1)(x)\n",
    "    x = BatchNormalization()(x)\n",
    "\n",
    "    if is_conv_block:\n",
    "        x_skip = Conv2D(f3, kernel_size=1, strides=stride)(x_skip)\n",
    "        x_skip = BatchNormalization()(x_skip)\n",
    "\n",
    "    x = Add()([x, x_skip])\n",
    "    x = Activation('relu')(x)\n",
    "\n",
    "    return x\n",
    "\n",
    "def custom_CNN(input_shape=(224, 224, 3), num_classes=4):\n",
    "   \n",
    "    inputs = Input(shape=input_shape)\n",
    "\n",
    "    x = Conv2D(64, kernel_size=7, strides=2, padding='same')(inputs)\n",
    "    x = BatchNormalization()(x)\n",
    "    x = Activation('relu')(x)\n",
    "    x = MaxPooling2D(pool_size=3, strides=2, padding='same')(x)\n",
    "\n",
    "    x = residual_block(x, filters=[64, 64, 256], stride=1, is_conv_block=True)\n",
    "    x = residual_block(x, filters=[64, 64, 256])\n",
    "    x = residual_block(x, filters=[64, 64, 256])\n",
    "    x = residual_block(x, filters=[64, 64, 256])\n",
    "\n",
    "    x = residual_block(x, filters=[128, 128, 512], stride=2, is_conv_block=True)\n",
    "    x = residual_block(x, filters=[128, 128, 512])\n",
    "    x = residual_block(x, filters=[128, 128, 512])\n",
    "   \n",
    "    \n",
    "    x = residual_block(x, filters=[256, 256, 1024], stride=2, is_conv_block=True)\n",
    "    x = residual_block(x, filters=[256, 256, 1024])\n",
    "    x = residual_block(x, filters=[256, 256, 1024])\n",
    "\n",
    "    x = GlobalAveragePooling2D()(x)\n",
    "    x = Dense(256, activation='relu')(x)\n",
    "    f1 = Dropout(0.5)(x)\n",
    "    outputs = Dense(num_classes, activation='softmax')(f1)\n",
    "\n",
    "    cnn = Model(inputs=inputs, outputs=outputs)\n",
    "\n",
    "    return cnn\n",
    "\n",
    "cnn = custom_CNN()\n",
    "\n",
    "\n",
    "cnn.compile(\n",
    "    optimizer=Adam(learning_rate=0.0001),\n",
    "    loss='categorical_crossentropy',\n",
    "    metrics=['accuracy']\n",
    ")\n",
    "cnn.summary()"
   ]
  },
  {
   "cell_type": "code",
   "execution_count": null,
   "metadata": {
    "trusted": true
   },
   "outputs": [],
   "source": [
    "import visualkeras\n",
    "visualkeras.layered_view(cnn, legend=True)"
   ]
  },
  {
   "cell_type": "code",
   "execution_count": null,
   "metadata": {
    "execution": {
     "iopub.execute_input": "2025-03-11T17:51:51.233957Z",
     "iopub.status.busy": "2025-03-11T17:51:51.233660Z",
     "iopub.status.idle": "2025-03-11T17:51:51.238612Z",
     "shell.execute_reply": "2025-03-11T17:51:51.237792Z",
     "shell.execute_reply.started": "2025-03-11T17:51:51.233934Z"
    },
    "trusted": true
   },
   "outputs": [],
   "source": [
    "checkpoint_cb = ModelCheckpoint(\n",
    "    'cnn_model.keras',\n",
    "    monitor='val_accuracy',\n",
    "    save_best_only=True,\n",
    "    mode='max',\n",
    "    verbose=1\n",
    ")\n",
    "\n",
    "early_stopping_cb = callbacks.EarlyStopping(\n",
    "    monitor='val_accuracy',\n",
    "    patience=15,\n",
    "    restore_best_weights=True,\n",
    "    verbose=1\n",
    ")\n",
    "reduce_lr_cb = ReduceLROnPlateau(\n",
    "    monitor='val_accuracy',   \n",
    "    factor=0.3,               \n",
    "    patience=7,               \n",
    "    min_lr=1e-6,              \n",
    "    verbose=1                 \n",
    ")"
   ]
  },
  {
   "cell_type": "code",
   "execution_count": null,
   "metadata": {
    "execution": {
     "iopub.execute_input": "2025-03-11T17:51:53.276914Z",
     "iopub.status.busy": "2025-03-11T17:51:53.276637Z",
     "iopub.status.idle": "2025-03-11T18:18:02.281862Z",
     "shell.execute_reply": "2025-03-11T18:18:02.280991Z",
     "shell.execute_reply.started": "2025-03-11T17:51:53.276891Z"
    },
    "scrolled": true,
    "trusted": true
   },
   "outputs": [],
   "source": [
    "history = cnn.fit(\n",
    "    train_generator,\n",
    "    epochs=50,\n",
    "    validation_data=test_generator,\n",
    "    callbacks=[checkpoint_cb, early_stopping_cb, reduce_lr_cb]\n",
    ")"
   ]
  },
  {
   "cell_type": "code",
   "execution_count": null,
   "metadata": {
    "execution": {
     "iopub.execute_input": "2025-03-11T16:40:29.608005Z",
     "iopub.status.busy": "2025-03-11T16:40:29.607662Z",
     "iopub.status.idle": "2025-03-11T16:40:30.446811Z",
     "shell.execute_reply": "2025-03-11T16:40:30.445869Z",
     "shell.execute_reply.started": "2025-03-11T16:40:29.607981Z"
    },
    "trusted": true
   },
   "outputs": [],
   "source": [
    "plt.figure(figsize=(12, 5))\n",
    "\n",
    "plt.subplot(1, 2, 1)\n",
    "plt.plot(history.history['accuracy'], label='Training Accuracy')\n",
    "plt.plot(history.history['val_accuracy'], label='Validation Accuracy')\n",
    "plt.title('Training and Validation Accuracy')\n",
    "plt.legend()\n",
    "\n",
    "plt.subplot(1, 2, 2)\n",
    "plt.plot(history.history['loss'], label='Training Loss')\n",
    "plt.plot(history.history['val_loss'], label='Validation Loss')\n",
    "plt.title('Training and Validation Loss')\n",
    "plt.legend()\n",
    "\n",
    "plt.show()"
   ]
  },
  {
   "cell_type": "code",
   "execution_count": null,
   "metadata": {
    "execution": {
     "iopub.execute_input": "2025-03-11T16:40:38.410678Z",
     "iopub.status.busy": "2025-03-11T16:40:38.410392Z",
     "iopub.status.idle": "2025-03-11T16:40:42.150662Z",
     "shell.execute_reply": "2025-03-11T16:40:42.149986Z",
     "shell.execute_reply.started": "2025-03-11T16:40:38.410657Z"
    },
    "trusted": true
   },
   "outputs": [],
   "source": [
    "loss, accuracy = cnn.evaluate(test_generator)\n",
    "\n",
    "print(f\"Test Accuracy: {accuracy * 100:.2f}%\")\n",
    "print(f\"Test Loss: {loss:.4f}\")\n"
   ]
  },
  {
   "cell_type": "code",
   "execution_count": null,
   "metadata": {
    "execution": {
     "iopub.execute_input": "2025-03-11T16:40:46.119352Z",
     "iopub.status.busy": "2025-03-11T16:40:46.119063Z",
     "iopub.status.idle": "2025-03-11T16:40:46.123874Z",
     "shell.execute_reply": "2025-03-11T16:40:46.122843Z",
     "shell.execute_reply.started": "2025-03-11T16:40:46.119330Z"
    },
    "trusted": true
   },
   "outputs": [],
   "source": [
    "misclassification_rate = 1 - accuracy\n",
    "print(f\"Misclassification Rate: {misclassification_rate:.3f}\")"
   ]
  },
  {
   "cell_type": "code",
   "execution_count": null,
   "metadata": {
    "execution": {
     "iopub.execute_input": "2025-03-11T18:18:35.794698Z",
     "iopub.status.busy": "2025-03-11T18:18:35.794398Z",
     "iopub.status.idle": "2025-03-11T18:18:44.321600Z",
     "shell.execute_reply": "2025-03-11T18:18:44.320810Z",
     "shell.execute_reply.started": "2025-03-11T18:18:35.794673Z"
    },
    "trusted": true
   },
   "outputs": [],
   "source": [
    "y_true = test_generator.classes  \n",
    "class_labels = list(test_generator.class_indices.keys())  \n",
    "\n",
    "y_pred_probs = cnn.predict(test_generator)  \n",
    "y_pred = np.argmax(y_pred_probs, axis=1)  \n",
    "\n",
    "conf_matrix = confusion_matrix(y_true, y_pred)\n",
    "\n",
    "plt.figure(figsize=(6, 5))\n",
    "sns.heatmap(conf_matrix, annot=True, fmt='d', cmap='Blues', xticklabels=class_labels, yticklabels=class_labels)\n",
    "plt.xlabel('Predicted')\n",
    "plt.ylabel('True')\n",
    "plt.title('Confusion Matrix')\n",
    "plt.show()\n",
    "\n",
    "report = classification_report(y_true, y_pred, target_names=class_labels)\n",
    "print(\"Classification Report:\\n\", report)\n"
   ]
  }
 ],
 "metadata": {
  "kaggle": {
   "accelerator": "none",
   "dataSources": [
    {
     "datasetId": 6727968,
     "sourceId": 10834255,
     "sourceType": "datasetVersion"
    }
   ],
   "dockerImageVersionId": 30919,
   "isGpuEnabled": false,
   "isInternetEnabled": true,
   "language": "python",
   "sourceType": "notebook"
  },
  "kernelspec": {
   "display_name": "Python 3",
   "language": "python",
   "name": "python3"
  },
  "language_info": {
   "codemirror_mode": {
    "name": "ipython",
    "version": 3
   },
   "file_extension": ".py",
   "mimetype": "text/x-python",
   "name": "python",
   "nbconvert_exporter": "python",
   "pygments_lexer": "ipython3",
   "version": "3.10.12"
  }
 },
 "nbformat": 4,
 "nbformat_minor": 4
}
